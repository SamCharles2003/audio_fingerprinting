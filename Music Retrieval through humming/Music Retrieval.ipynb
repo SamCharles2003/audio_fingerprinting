{
 "cells": [
  {
   "cell_type": "markdown",
   "id": "912ceb56",
   "metadata": {},
   "source": [
    "# Data Collection\n",
    "\n",
    "dataset link: http://mirlab.org/dataset/public/MIR-QBSH.zip"
   ]
  },
  {
   "cell_type": "code",
   "execution_count": 39,
   "id": "bf32a55d",
   "metadata": {},
   "outputs": [],
   "source": [
    "import os\n",
    "import pandas as pd"
   ]
  },
  {
   "cell_type": "code",
   "execution_count": 45,
   "id": "93247d7e",
   "metadata": {},
   "outputs": [],
   "source": [
    "# Storing the path of the files in a list"
   ]
  },
  {
   "cell_type": "code",
   "execution_count": 44,
   "id": "07b99016",
   "metadata": {},
   "outputs": [],
   "source": [
    "# Specify the directory containing your MIDI and audio files\n",
    "midi_directory = 'MIR-QBSH/MIR-QBSH/midiFile'  # original audio directory path\n",
    "audio_directory = 'MIR-QBSH/MIR-QBSH/waveFile'  # Hummed audio directory path\n",
    "\n",
    "# List all MIDI files in the directory\n",
    "midi_files = [f for f in os.listdir(midi_directory) if f.endswith('.mid')]\n",
    "midi_files = [os.path.join(midi_directory, f) for f in midi_files]  # Create full paths"
   ]
  },
  {
   "cell_type": "code",
   "execution_count": 41,
   "id": "8999eaf8",
   "metadata": {},
   "outputs": [],
   "source": [
    "# Specify the root directory containing year directories\n",
    "root_directory = 'MIR-QBSH/MIR-QBSH/waveFile'  # Replace with your root directory path\n",
    "\n",
    "audio_files = []  # List to store all audio files\n",
    "\n",
    "# Iterate through each year directory in the root directory\n",
    "for year in os.listdir(root_directory):\n",
    "    year_path = os.path.join(root_directory, year)\n",
    "    if os.path.isdir(year_path):  # Check if it is a directory\n",
    "        # Iterate through each person directory in the year\n",
    "        for person in os.listdir(year_path):\n",
    "            person_path = os.path.join(year_path, person)\n",
    "            if os.path.isdir(person_path):  # Check if it is a directory\n",
    "                # Collect audio files from the person directory\n",
    "                for file in os.listdir(person_path):\n",
    "                    if file.endswith(('.wav', '.mp3')):  # Add other extensions as needed\n",
    "                        audio_files.append(os.path.join(person_path, file))  # Append full path"
   ]
  },
  {
   "cell_type": "code",
   "execution_count": 46,
   "id": "db257db4",
   "metadata": {},
   "outputs": [],
   "source": [
    "# Creation of the data frame"
   ]
  },
  {
   "cell_type": "code",
   "execution_count": 42,
   "id": "5c9438c7",
   "metadata": {},
   "outputs": [],
   "source": [
    "Music_df = pd.DataFrame(midi_files, columns = ['Original Audio Path']) # Create dataframe from the midi_files list(original)\n",
    "Music_df['Song Name'] = Music_df['Original Audio Path'].str.extract(r'(\\d{5})')# Create a column for name of the song\n",
    "Hummed_Audio_df = pd.DataFrame(audio_files,columns=['Hummed Audio Path']) # Create dataframe from the audio_files list(hummed)\n",
    "Hummed_Audio_df['Song Name'] = Hummed_Audio_df['Hummed Audio Path'].str.extract(r'(\\d{5})')# Create a column for name of the song\n",
    "music_retrieval_df = pd.merge(Music_df, Hummed_Audio_df, on='Song Name', how='left') # mege the dataframes based on Song Name"
   ]
  },
  {
   "cell_type": "code",
   "execution_count": 43,
   "id": "025851a0",
   "metadata": {
    "scrolled": true
   },
   "outputs": [
    {
     "data": {
      "text/html": [
       "<div>\n",
       "<style scoped>\n",
       "    .dataframe tbody tr th:only-of-type {\n",
       "        vertical-align: middle;\n",
       "    }\n",
       "\n",
       "    .dataframe tbody tr th {\n",
       "        vertical-align: top;\n",
       "    }\n",
       "\n",
       "    .dataframe thead th {\n",
       "        text-align: right;\n",
       "    }\n",
       "</style>\n",
       "<table border=\"1\" class=\"dataframe\">\n",
       "  <thead>\n",
       "    <tr style=\"text-align: right;\">\n",
       "      <th></th>\n",
       "      <th>Original Audio Path</th>\n",
       "      <th>Song Name</th>\n",
       "      <th>Hummed Audio Path</th>\n",
       "    </tr>\n",
       "  </thead>\n",
       "  <tbody>\n",
       "    <tr>\n",
       "      <th>0</th>\n",
       "      <td>MIR-QBSH/MIR-QBSH/midiFile\\00001.mid</td>\n",
       "      <td>00001</td>\n",
       "      <td>MIR-QBSH/MIR-QBSH/waveFile\\year2003\\person0000...</td>\n",
       "    </tr>\n",
       "    <tr>\n",
       "      <th>1</th>\n",
       "      <td>MIR-QBSH/MIR-QBSH/midiFile\\00001.mid</td>\n",
       "      <td>00001</td>\n",
       "      <td>MIR-QBSH/MIR-QBSH/waveFile\\year2003\\person0000...</td>\n",
       "    </tr>\n",
       "    <tr>\n",
       "      <th>2</th>\n",
       "      <td>MIR-QBSH/MIR-QBSH/midiFile\\00001.mid</td>\n",
       "      <td>00001</td>\n",
       "      <td>MIR-QBSH/MIR-QBSH/waveFile\\year2003\\person0000...</td>\n",
       "    </tr>\n",
       "    <tr>\n",
       "      <th>3</th>\n",
       "      <td>MIR-QBSH/MIR-QBSH/midiFile\\00001.mid</td>\n",
       "      <td>00001</td>\n",
       "      <td>MIR-QBSH/MIR-QBSH/waveFile\\year2003\\person0000...</td>\n",
       "    </tr>\n",
       "    <tr>\n",
       "      <th>4</th>\n",
       "      <td>MIR-QBSH/MIR-QBSH/midiFile\\00001.mid</td>\n",
       "      <td>00001</td>\n",
       "      <td>MIR-QBSH/MIR-QBSH/waveFile\\year2003\\person0000...</td>\n",
       "    </tr>\n",
       "  </tbody>\n",
       "</table>\n",
       "</div>"
      ],
      "text/plain": [
       "                    Original Audio Path Song Name  \\\n",
       "0  MIR-QBSH/MIR-QBSH/midiFile\\00001.mid     00001   \n",
       "1  MIR-QBSH/MIR-QBSH/midiFile\\00001.mid     00001   \n",
       "2  MIR-QBSH/MIR-QBSH/midiFile\\00001.mid     00001   \n",
       "3  MIR-QBSH/MIR-QBSH/midiFile\\00001.mid     00001   \n",
       "4  MIR-QBSH/MIR-QBSH/midiFile\\00001.mid     00001   \n",
       "\n",
       "                                   Hummed Audio Path  \n",
       "0  MIR-QBSH/MIR-QBSH/waveFile\\year2003\\person0000...  \n",
       "1  MIR-QBSH/MIR-QBSH/waveFile\\year2003\\person0000...  \n",
       "2  MIR-QBSH/MIR-QBSH/waveFile\\year2003\\person0000...  \n",
       "3  MIR-QBSH/MIR-QBSH/waveFile\\year2003\\person0000...  \n",
       "4  MIR-QBSH/MIR-QBSH/waveFile\\year2003\\person0000...  "
      ]
     },
     "execution_count": 43,
     "metadata": {},
     "output_type": "execute_result"
    }
   ],
   "source": [
    "music_retrieval_df.head()"
   ]
  }
 ],
 "metadata": {
  "kernelspec": {
   "display_name": "Python 3",
   "language": "python",
   "name": "python3"
  },
  "language_info": {
   "codemirror_mode": {
    "name": "ipython",
    "version": 3
   },
   "file_extension": ".py",
   "mimetype": "text/x-python",
   "name": "python",
   "nbconvert_exporter": "python",
   "pygments_lexer": "ipython3",
   "version": "3.8.8"
  }
 },
 "nbformat": 4,
 "nbformat_minor": 5
}
